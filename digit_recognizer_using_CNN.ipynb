{
  "nbformat": 4,
  "nbformat_minor": 0,
  "metadata": {
    "colab": {
      "name": "digit_recognizer_using_CNN.ipynb",
      "provenance": []
    },
    "kernelspec": {
      "name": "python3",
      "display_name": "Python 3"
    }
  },
  "cells": [
    {
      "cell_type": "markdown",
      "metadata": {
        "id": "VeKtWRRWaP4G",
        "colab_type": "text"
      },
      "source": [
        "IMPORTING LIBRARIES"
      ]
    },
    {
      "cell_type": "markdown",
      "metadata": {
        "id": "buNd7noLWgOg",
        "colab_type": "text"
      },
      "source": [
        "###Steps to connect to kaggle"
      ]
    },
    {
      "cell_type": "code",
      "metadata": {
        "id": "FtDbTOxxWB3-",
        "colab_type": "code",
        "colab": {
          "base_uri": "https://localhost:8080/",
          "height": 239
        },
        "outputId": "33b219e0-363c-4762-8530-442eb0c55dfa"
      },
      "source": [
        "!pip install kaggle"
      ],
      "execution_count": 1,
      "outputs": [
        {
          "output_type": "stream",
          "text": [
            "Requirement already satisfied: kaggle in /usr/local/lib/python3.6/dist-packages (1.5.6)\n",
            "Requirement already satisfied: tqdm in /usr/local/lib/python3.6/dist-packages (from kaggle) (4.28.1)\n",
            "Requirement already satisfied: python-dateutil in /usr/local/lib/python3.6/dist-packages (from kaggle) (2.6.1)\n",
            "Requirement already satisfied: certifi in /usr/local/lib/python3.6/dist-packages (from kaggle) (2019.9.11)\n",
            "Requirement already satisfied: urllib3<1.25,>=1.21.1 in /usr/local/lib/python3.6/dist-packages (from kaggle) (1.24.3)\n",
            "Requirement already satisfied: requests in /usr/local/lib/python3.6/dist-packages (from kaggle) (2.21.0)\n",
            "Requirement already satisfied: python-slugify in /usr/local/lib/python3.6/dist-packages (from kaggle) (4.0.0)\n",
            "Requirement already satisfied: six>=1.10 in /usr/local/lib/python3.6/dist-packages (from kaggle) (1.12.0)\n",
            "Requirement already satisfied: chardet<3.1.0,>=3.0.2 in /usr/local/lib/python3.6/dist-packages (from requests->kaggle) (3.0.4)\n",
            "Requirement already satisfied: idna<2.9,>=2.5 in /usr/local/lib/python3.6/dist-packages (from requests->kaggle) (2.8)\n",
            "Requirement already satisfied: text-unidecode>=1.3 in /usr/local/lib/python3.6/dist-packages (from python-slugify->kaggle) (1.3)\n"
          ],
          "name": "stdout"
        }
      ]
    },
    {
      "cell_type": "code",
      "metadata": {
        "id": "HeInpVVIRMPK",
        "colab_type": "code",
        "colab": {}
      },
      "source": [
        "import os\n",
        "os.environ['KAGGLE_USERNAME'] = \"*****\" # username from the kaggle.json file downloaded from kaggle\n",
        "os.environ['KAGGLE_KEY'] = \"*************************\" # key from the kaggle.json file downloaded from kaggle"
      ],
      "execution_count": 0,
      "outputs": []
    },
    {
      "cell_type": "markdown",
      "metadata": {
        "id": "B1SBBpz_WrqQ",
        "colab_type": "text"
      },
      "source": [
        "###Download train.csv and test.csv"
      ]
    },
    {
      "cell_type": "code",
      "metadata": {
        "id": "6rqK-eIbTAGN",
        "colab_type": "code",
        "outputId": "222312ee-9d79-45d4-a0fe-e77b0b4e9beb",
        "colab": {
          "base_uri": "https://localhost:8080/",
          "height": 221
        }
      },
      "source": [
        "!kaggle competitions download -c digit-recognizer"
      ],
      "execution_count": 3,
      "outputs": [
        {
          "output_type": "stream",
          "text": [
            "Warning: Looks like you're using an outdated API Version, please consider updating (server 1.5.6 / client 1.5.4)\n",
            "Downloading train.csv to /content\n",
            "\r  0% 0.00/73.2M [00:00<?, ?B/s]\r  7% 5.00M/73.2M [00:00<00:01, 50.0MB/s]\r 34% 25.0M/73.2M [00:00<00:00, 62.2MB/s]\r 61% 45.0M/73.2M [00:00<00:00, 78.7MB/s]\r 89% 65.0M/73.2M [00:00<00:00, 77.4MB/s]\n",
            "\r100% 73.2M/73.2M [00:00<00:00, 107MB/s] \n",
            "Downloading test.csv to /content\n",
            " 88% 43.0M/48.8M [00:00<00:00, 45.1MB/s]\n",
            "100% 48.8M/48.8M [00:00<00:00, 110MB/s] \n",
            "Downloading sample_submission.csv to /content\n",
            "  0% 0.00/235k [00:00<?, ?B/s]\n",
            "100% 235k/235k [00:00<00:00, 61.6MB/s]\n"
          ],
          "name": "stdout"
        }
      ]
    },
    {
      "cell_type": "markdown",
      "metadata": {
        "id": "O6nHyKlZdska",
        "colab_type": "text"
      },
      "source": [
        "###Importing libraries"
      ]
    },
    {
      "cell_type": "code",
      "metadata": {
        "id": "8MD-2sh2jvqG",
        "colab_type": "code",
        "outputId": "4efa18dc-af67-4457-f583-58af633a847b",
        "colab": {
          "base_uri": "https://localhost:8080/",
          "height": 100
        }
      },
      "source": [
        "import pandas as pd # for pandas data frame operations\n",
        "import numpy as np # to work on numerical arrays\n",
        "import seaborn as sns # seabonrn for visualization\n",
        "import matplotlib.pyplot as plt # plots for visualization\n",
        "import matplotlib.image as mpimg # to load image data\n",
        "from sklearn.model_selection import train_test_split # to split train.csv data for cross validation\n",
        "from sklearn.metrics import confusion_matrix # to construct confusion matrix\n",
        "import itertools # has iterator functions for efficient looping\n",
        "from keras.utils.np_utils import to_categorical # convert to one-hot-encoding\n",
        "from keras.models import Sequential # to construct in CNN\n",
        "from keras.layers import Dense, Dropout, Flatten, Conv2D, MaxPool2D # Operations on CNN\n",
        "from keras.optimizers import RMSprop # RMSProp optimizer\n",
        "from keras.preprocessing.image import ImageDataGenerator # Image generator class\n",
        "from keras.callbacks import ReduceLROnPlateau # Reduce learning rate callback function"
      ],
      "execution_count": 4,
      "outputs": [
        {
          "output_type": "stream",
          "text": [
            "Using TensorFlow backend.\n"
          ],
          "name": "stderr"
        },
        {
          "output_type": "display_data",
          "data": {
            "text/html": [
              "<p style=\"color: red;\">\n",
              "The default version of TensorFlow in Colab will soon switch to TensorFlow 2.x.<br>\n",
              "We recommend you <a href=\"https://www.tensorflow.org/guide/migrate\" target=\"_blank\">upgrade</a> now \n",
              "or ensure your notebook will continue to use TensorFlow 1.x via the <code>%tensorflow_version 1.x</code> magic:\n",
              "<a href=\"https://colab.research.google.com/notebooks/tensorflow_version.ipynb\" target=\"_blank\">more info</a>.</p>\n"
            ],
            "text/plain": [
              "<IPython.core.display.HTML object>"
            ]
          },
          "metadata": {
            "tags": []
          }
        }
      ]
    },
    {
      "cell_type": "markdown",
      "metadata": {
        "id": "ZJH-nJeoig4j",
        "colab_type": "text"
      },
      "source": [
        "###Setting environment for visulaization"
      ]
    },
    {
      "cell_type": "code",
      "metadata": {
        "id": "CJ6e7zhHiebs",
        "colab_type": "code",
        "colab": {}
      },
      "source": [
        "%matplotlib inline\n",
        "sns.set()"
      ],
      "execution_count": 0,
      "outputs": []
    },
    {
      "cell_type": "markdown",
      "metadata": {
        "id": "kbEUManMdgzB",
        "colab_type": "text"
      },
      "source": [
        "###Loading the data set"
      ]
    },
    {
      "cell_type": "code",
      "metadata": {
        "id": "Lk3ozPWvVmsi",
        "colab_type": "code",
        "colab": {
          "base_uri": "https://localhost:8080/",
          "height": 35
        },
        "outputId": "c1c665b4-a021-4a57-b35a-4104eef2e102"
      },
      "source": [
        "# Load the data (images stored as pixel values)\n",
        "train = pd.read_csv(\"train.csv\")\n",
        "test = pd.read_csv(\"test.csv\")\n",
        "train.shape"
      ],
      "execution_count": 6,
      "outputs": [
        {
          "output_type": "execute_result",
          "data": {
            "text/plain": [
              "(42000, 785)"
            ]
          },
          "metadata": {
            "tags": []
          },
          "execution_count": 6
        }
      ]
    },
    {
      "cell_type": "code",
      "metadata": {
        "id": "dMxyzcshXREZ",
        "colab_type": "code",
        "outputId": "4ea7f9b0-87d9-489f-cf8e-020a8795eb82",
        "colab": {
          "base_uri": "https://localhost:8080/",
          "height": 487
        }
      },
      "source": [
        "Y = train[\"label\"] # target of train.csv data\n",
        "X = train.drop(labels = [\"label\"],axis = 1) # Drop 'label' column from train.csv data\n",
        "g = sns.countplot(Y) # display the distribution of digits in train.csv data\n",
        "Y.value_counts().sort_values() # count the distribution of digits in train.csv data"
      ],
      "execution_count": 7,
      "outputs": [
        {
          "output_type": "execute_result",
          "data": {
            "text/plain": [
              "5    3795\n",
              "8    4063\n",
              "4    4072\n",
              "0    4132\n",
              "6    4137\n",
              "2    4177\n",
              "9    4188\n",
              "3    4351\n",
              "7    4401\n",
              "1    4684\n",
              "Name: label, dtype: int64"
            ]
          },
          "metadata": {
            "tags": []
          },
          "execution_count": 7
        },
        {
          "output_type": "display_data",
          "data": {
            "image/png": "[encoded data removed]",
            "text/plain": [
              "<Figure size 432x288 with 1 Axes>"
            ]
          },
          "metadata": {
            "tags": []
          }
        }
      ]
    },
    {
      "cell_type": "code",
      "metadata": {
        "id": "AKBsJ-lIk3Ad",
        "colab_type": "code",
        "colab": {}
      },
      "source": [
        "del train # delete train dataframe to free some space "
      ],
      "execution_count": 0,
      "outputs": []
    },
    {
      "cell_type": "markdown",
      "metadata": {
        "id": "8xzfGlbSnrDw",
        "colab_type": "text"
      },
      "source": [
        "###Preprocessing"
      ]
    },
    {
      "cell_type": "code",
      "metadata": {
        "id": "kg-dgRSaXTyK",
        "colab_type": "code",
        "outputId": "3f6417bb-81b1-4bf9-cc90-083f65a90785",
        "colab": {
          "base_uri": "https://localhost:8080/",
          "height": 109
        }
      },
      "source": [
        "#Check for null and missing values in train.csv data\n",
        "X.isnull().any().describe() # the result shows there is no null values"
      ],
      "execution_count": 9,
      "outputs": [
        {
          "output_type": "execute_result",
          "data": {
            "text/plain": [
              "count       784\n",
              "unique        1\n",
              "top       False\n",
              "freq        784\n",
              "dtype: object"
            ]
          },
          "metadata": {
            "tags": []
          },
          "execution_count": 9
        }
      ]
    },
    {
      "cell_type": "code",
      "metadata": {
        "id": "8X7ucScdZRyA",
        "colab_type": "code",
        "outputId": "20629f8e-2074-42c8-b784-7a01974a76e2",
        "colab": {
          "base_uri": "https://localhost:8080/",
          "height": 109
        }
      },
      "source": [
        "#Check for null and missing values in test.csv data\n",
        "test.isnull().any().describe() # the result shows there is no null values"
      ],
      "execution_count": 10,
      "outputs": [
        {
          "output_type": "execute_result",
          "data": {
            "text/plain": [
              "count       784\n",
              "unique        1\n",
              "top       False\n",
              "freq        784\n",
              "dtype: object"
            ]
          },
          "metadata": {
            "tags": []
          },
          "execution_count": 10
        }
      ]
    },
    {
      "cell_type": "code",
      "metadata": {
        "id": "p6JKrivLZkZM",
        "colab_type": "code",
        "colab": {}
      },
      "source": [
        "X = X / 255.0 # Normalize train.csv data\n",
        "test = test / 255.0 # Normalize test.csv the data"
      ],
      "execution_count": 0,
      "outputs": []
    },
    {
      "cell_type": "code",
      "metadata": {
        "id": "i45YyhImZtpS",
        "colab_type": "code",
        "colab": {}
      },
      "source": [
        "# Reshape image in 3 dimensions (height = 28px, width = 28px , channel = 1)\n",
        "X = X.values.reshape(-1,28,28,1)\n",
        "test = test.values.reshape(-1,28,28,1)"
      ],
      "execution_count": 0,
      "outputs": []
    },
    {
      "cell_type": "code",
      "metadata": {
        "id": "sOuWRWgYrszs",
        "colab_type": "code",
        "colab": {
          "base_uri": "https://localhost:8080/",
          "height": 35
        },
        "outputId": "c5b97c5a-3067-4d47-a16c-eeec90ea2a5d"
      },
      "source": [
        "X.shape #reshaped from \"42000 X 784\" to \"42000 X 28 X 28 X 1\""
      ],
      "execution_count": 13,
      "outputs": [
        {
          "output_type": "execute_result",
          "data": {
            "text/plain": [
              "(42000, 28, 28, 1)"
            ]
          },
          "metadata": {
            "tags": []
          },
          "execution_count": 13
        }
      ]
    },
    {
      "cell_type": "code",
      "metadata": {
        "id": "loWs6cUvZyft",
        "colab_type": "code",
        "colab": {}
      },
      "source": [
        "Y = to_categorical(Y, num_classes = 10) # one hot encoding (example: 2 -> [0,0,1,0,0,0,0,0,0,0])"
      ],
      "execution_count": 0,
      "outputs": []
    },
    {
      "cell_type": "code",
      "metadata": {
        "id": "x4GAdj3psrKr",
        "colab_type": "code",
        "colab": {
          "base_uri": "https://localhost:8080/",
          "height": 146
        },
        "outputId": "b91c80ce-3000-42f6-e23d-dfa2e46fb827"
      },
      "source": [
        "Y # display the encoded target column"
      ],
      "execution_count": 15,
      "outputs": [
        {
          "output_type": "execute_result",
          "data": {
            "text/plain": [
              "array([[0., 1., 0., ..., 0., 0., 0.],\n",
              "       [1., 0., 0., ..., 0., 0., 0.],\n",
              "       [0., 1., 0., ..., 0., 0., 0.],\n",
              "       ...,\n",
              "       [0., 0., 0., ..., 1., 0., 0.],\n",
              "       [0., 0., 0., ..., 0., 0., 0.],\n",
              "       [0., 0., 0., ..., 0., 0., 1.]], dtype=float32)"
            ]
          },
          "metadata": {
            "tags": []
          },
          "execution_count": 15
        }
      ]
    },
    {
      "cell_type": "code",
      "metadata": {
        "id": "wkW8gp4maGHM",
        "colab_type": "code",
        "colab": {}
      },
      "source": [
        "X_train, X_val, Y_train, Y_val = train_test_split(X, Y, test_size = 0.2, shuffle=True) # Split the train and the validation set for cross validation"
      ],
      "execution_count": 0,
      "outputs": []
    },
    {
      "cell_type": "code",
      "metadata": {
        "id": "AaC-FM2utnzG",
        "colab_type": "code",
        "colab": {
          "base_uri": "https://localhost:8080/",
          "height": 90
        },
        "outputId": "a46cf50a-93a1-4512-dba7-b10db3bce377"
      },
      "source": [
        "# dimensions of the cross validation data\n",
        "print(X_train.shape)\n",
        "print(X_val.shape)\n",
        "print(Y_train.shape)\n",
        "print(Y_val.shape)"
      ],
      "execution_count": 17,
      "outputs": [
        {
          "output_type": "stream",
          "text": [
            "(33600, 28, 28, 1)\n",
            "(8400, 28, 28, 1)\n",
            "(33600, 10)\n",
            "(8400, 10)\n"
          ],
          "name": "stdout"
        }
      ]
    },
    {
      "cell_type": "markdown",
      "metadata": {
        "id": "d7d1S9gXubEM",
        "colab_type": "text"
      },
      "source": [
        "###Display sample images from numpy array"
      ]
    },
    {
      "cell_type": "code",
      "metadata": {
        "id": "9CGnNAJDaKz6",
        "colab_type": "code",
        "outputId": "3f4baafd-fe8d-49f5-b59f-8831c8adf9a7",
        "colab": {
          "base_uri": "https://localhost:8080/",
          "height": 268
        }
      },
      "source": [
        "g = plt.imshow(X_train[0][:,:,0]) # first image"
      ],
      "execution_count": 18,
      "outputs": [
        {
          "output_type": "display_data",
          "data": {
            "image/png": "[encoded data removed]",
            "text/plain": [
              "<Figure size 432x288 with 1 Axes>"
            ]
          },
          "metadata": {
            "tags": []
          }
        }
      ]
    },
    {
      "cell_type": "code",
      "metadata": {
        "id": "LfctP7O2uVsT",
        "colab_type": "code",
        "colab": {
          "base_uri": "https://localhost:8080/",
          "height": 268
        },
        "outputId": "c018dabf-f2dd-4bb1-a48b-efaafc8fca80"
      },
      "source": [
        "g = plt.imshow(X_train[1][:,:,0]) # second image"
      ],
      "execution_count": 19,
      "outputs": [
        {
          "output_type": "display_data",
          "data": {
            "image/png": "[encoded data removed]",
            "text/plain": [
              "<Figure size 432x288 with 1 Axes>"
            ]
          },
          "metadata": {
            "tags": []
          }
        }
      ]
    },
    {
      "cell_type": "markdown",
      "metadata": {
        "id": "ojSwKHZ78z6q",
        "colab_type": "text"
      },
      "source": [
        "#Constructing the Convolutional Neural Network (CNN)\n",
        "#### [Conv2D(relu) -> Conv2D(relu) -> MaxPool2D -> Dropout] -> [Conv2D(relu) -> Conv2D(relu) -> MaxPool2D -> Dropout] ->\n",
        "####-> Flatten -> Dense -> Dropout -> Out"
      ]
    },
    {
      "cell_type": "code",
      "metadata": {
        "id": "tkd4BM0faTIo",
        "colab_type": "code",
        "outputId": "dc9d81cc-de2f-4fd4-ac80-941a72b8e41e",
        "colab": {
          "base_uri": "https://localhost:8080/",
          "height": 276
        }
      },
      "source": [
        "model = Sequential()\n",
        "model.add(Conv2D(filters = 32, kernel_size = (5,5),padding = 'Same', activation ='relu',\n",
        "                 input_shape = (28,28,1))) # input 2D convolutional layer\n",
        "model.add(Conv2D(filters = 32, kernel_size = (5,5),padding = 'Same', activation ='relu'))\n",
        "model.add(MaxPool2D(pool_size=(2,2))) # 2D max pooling\n",
        "model.add(Dropout(0.25)) # applies dropout to prevent overfitting\n",
        "\n",
        "model.add(Conv2D(filters = 64, kernel_size = (3,3),padding = 'Same', activation ='relu'))\n",
        "model.add(Conv2D(filters = 64, kernel_size = (3,3),padding = 'Same', activation ='relu'))\n",
        "model.add(MaxPool2D(pool_size=(2,2), strides=(2,2)))\n",
        "model.add(Dropout(0.25))\n",
        "\n",
        "model.add(Flatten()) # Flattens without affecting the size\n",
        "model.add(Dense(256, activation = \"relu\")) # dense layer of size 256 units\n",
        "model.add(Dropout(0.5))\n",
        "model.add(Dense(10, activation = \"softmax\")) # dense layer of size 10 to output the digit value"
      ],
      "execution_count": 20,
      "outputs": [
        {
          "output_type": "stream",
          "text": [
            "WARNING:tensorflow:From /usr/local/lib/python3.6/dist-packages/keras/backend/tensorflow_backend.py:66: The name tf.get_default_graph is deprecated. Please use tf.compat.v1.get_default_graph instead.\n",
            "\n",
            "WARNING:tensorflow:From /usr/local/lib/python3.6/dist-packages/keras/backend/tensorflow_backend.py:541: The name tf.placeholder is deprecated. Please use tf.compat.v1.placeholder instead.\n",
            "\n",
            "WARNING:tensorflow:From /usr/local/lib/python3.6/dist-packages/keras/backend/tensorflow_backend.py:4432: The name tf.random_uniform is deprecated. Please use tf.random.uniform instead.\n",
            "\n",
            "WARNING:tensorflow:From /usr/local/lib/python3.6/dist-packages/keras/backend/tensorflow_backend.py:4267: The name tf.nn.max_pool is deprecated. Please use tf.nn.max_pool2d instead.\n",
            "\n",
            "WARNING:tensorflow:From /usr/local/lib/python3.6/dist-packages/keras/backend/tensorflow_backend.py:148: The name tf.placeholder_with_default is deprecated. Please use tf.compat.v1.placeholder_with_default instead.\n",
            "\n",
            "WARNING:tensorflow:From /usr/local/lib/python3.6/dist-packages/keras/backend/tensorflow_backend.py:3733: calling dropout (from tensorflow.python.ops.nn_ops) with keep_prob is deprecated and will be removed in a future version.\n",
            "Instructions for updating:\n",
            "Please use `rate` instead of `keep_prob`. Rate should be set to `rate = 1 - keep_prob`.\n"
          ],
          "name": "stdout"
        }
      ]
    },
    {
      "cell_type": "code",
      "metadata": {
        "id": "45rgWT1-ahRe",
        "colab_type": "code",
        "colab": {}
      },
      "source": [
        "optimizer = RMSprop(lr=0.001, rho=0.9, epsilon=1e-08, decay=0.0) # RMSprop optimizer divides the gradient by root mean square\n",
        "model.compile(optimizer = optimizer , loss = \"categorical_crossentropy\", metrics=[\"accuracy\"]) # Compile the model\n",
        "learning_rate_reduction = ReduceLROnPlateau(monitor='val_acc', \n",
        "                                            patience=3, \n",
        "                                            factor=0.3, \n",
        "                                            verbose=1, \n",
        "                                            min_lr=0.00001) # reduces learning rate if the learning is stagnant"
      ],
      "execution_count": 0,
      "outputs": []
    },
    {
      "cell_type": "code",
      "metadata": {
        "id": "-5EQgNqFbOua",
        "colab_type": "code",
        "colab": {}
      },
      "source": [
        "# Generate batches of tensor image data with real-time data augmentation\n",
        "# The data will be looped over (in batches).\n",
        "# With data augmentation to prevent overfitting (accuracy 0.99286)\n",
        "datagen = ImageDataGenerator(\n",
        "        featurewise_center=False,  # set input mean to 0 over the dataset\n",
        "        samplewise_center=False,  # set each sample mean to 0\n",
        "        featurewise_std_normalization=False,  # divide inputs by std of the dataset\n",
        "        samplewise_std_normalization=False,  # divide each input by its std\n",
        "        zca_whitening=False,  # apply ZCA whitening\n",
        "        rotation_range=10,  # rotate images in the range (degrees, 0 to 180)\n",
        "        zoom_range = 0.1, # zoom image\n",
        "        width_shift_range=0.1,  # shift images horizontally (fraction of total width)\n",
        "        height_shift_range=0.1,  # shift images vertically (fraction of total height)\n",
        "        horizontal_flip=False,  # flip images horizontally\n",
        "        vertical_flip=False)  # flip images vertically\n",
        "datagen.fit(X_train) # apply datagen augmentation to train.csv data"
      ],
      "execution_count": 0,
      "outputs": []
    },
    {
      "cell_type": "code",
      "metadata": {
        "id": "ilTosJ2obcET",
        "colab_type": "code",
        "outputId": "95d28d15-3ef8-4f93-b49d-4cd8e235c65a",
        "colab": {
          "base_uri": "https://localhost:8080/",
          "height": 790
        }
      },
      "source": [
        "# Fit the model\n",
        "epochs = 10\n",
        "batch_size = 84\n",
        "history = model.fit_generator(datagen.flow(X_train,Y_train, batch_size=batch_size),\n",
        "                              epochs = epochs, validation_data = (X_val,Y_val),\n",
        "                              verbose = 2, steps_per_epoch=X_train.shape[0] // batch_size\n",
        "                              , callbacks=[learning_rate_reduction])"
      ],
      "execution_count": 34,
      "outputs": [
        {
          "output_type": "stream",
          "text": [
            "WARNING:tensorflow:From /usr/local/lib/python3.6/dist-packages/tensorflow_core/python/ops/math_grad.py:1424: where (from tensorflow.python.ops.array_ops) is deprecated and will be removed in a future version.\n",
            "Instructions for updating:\n",
            "Use tf.where in 2.0, which has the same broadcast rule as np.where\n",
            "WARNING:tensorflow:From /usr/local/lib/python3.6/dist-packages/keras/backend/tensorflow_backend.py:1033: The name tf.assign_add is deprecated. Please use tf.compat.v1.assign_add instead.\n",
            "\n",
            "WARNING:tensorflow:From /usr/local/lib/python3.6/dist-packages/keras/backend/tensorflow_backend.py:1020: The name tf.assign is deprecated. Please use tf.compat.v1.assign instead.\n",
            "\n",
            "WARNING:tensorflow:From /usr/local/lib/python3.6/dist-packages/keras/backend/tensorflow_backend.py:3005: The name tf.Session is deprecated. Please use tf.compat.v1.Session instead.\n",
            "\n",
            "Epoch 1/10\n",
            "WARNING:tensorflow:From /usr/local/lib/python3.6/dist-packages/keras/backend/tensorflow_backend.py:190: The name tf.get_default_session is deprecated. Please use tf.compat.v1.get_default_session instead.\n",
            "\n",
            "WARNING:tensorflow:From /usr/local/lib/python3.6/dist-packages/keras/backend/tensorflow_backend.py:197: The name tf.ConfigProto is deprecated. Please use tf.compat.v1.ConfigProto instead.\n",
            "\n",
            "WARNING:tensorflow:From /usr/local/lib/python3.6/dist-packages/keras/backend/tensorflow_backend.py:207: The name tf.global_variables is deprecated. Please use tf.compat.v1.global_variables instead.\n",
            "\n",
            "WARNING:tensorflow:From /usr/local/lib/python3.6/dist-packages/keras/backend/tensorflow_backend.py:216: The name tf.is_variable_initialized is deprecated. Please use tf.compat.v1.is_variable_initialized instead.\n",
            "\n",
            "WARNING:tensorflow:From /usr/local/lib/python3.6/dist-packages/keras/backend/tensorflow_backend.py:223: The name tf.variables_initializer is deprecated. Please use tf.compat.v1.variables_initializer instead.\n",
            "\n",
            " - 248s - loss: 0.4459 - acc: 0.8608 - val_loss: 0.0856 - val_acc: 0.9730\n",
            "Epoch 2/10\n",
            " - 242s - loss: 0.1707 - acc: 0.9497 - val_loss: 0.0550 - val_acc: 0.9856\n",
            "Epoch 3/10\n",
            " - 237s - loss: 0.1257 - acc: 0.9651 - val_loss: 0.0469 - val_acc: 0.9868\n",
            "Epoch 4/10\n",
            " - 236s - loss: 0.1132 - acc: 0.9691 - val_loss: 0.0389 - val_acc: 0.9899\n",
            "Epoch 5/10\n",
            " - 234s - loss: 0.1096 - acc: 0.9702 - val_loss: 0.0550 - val_acc: 0.9858\n",
            "Epoch 6/10\n",
            " - 235s - loss: 0.1066 - acc: 0.9718 - val_loss: 0.0361 - val_acc: 0.9895\n",
            "Epoch 7/10\n",
            " - 236s - loss: 0.1061 - acc: 0.9728 - val_loss: 0.0374 - val_acc: 0.9895\n",
            "\n",
            "Epoch 00007: ReduceLROnPlateau reducing learning rate to 0.0003000000142492354.\n",
            "Epoch 8/10\n",
            " - 235s - loss: 0.0653 - acc: 0.9815 - val_loss: 0.0278 - val_acc: 0.9925\n",
            "Epoch 9/10\n",
            " - 241s - loss: 0.0589 - acc: 0.9835 - val_loss: 0.0270 - val_acc: 0.9936\n",
            "Epoch 10/10\n",
            " - 240s - loss: 0.0593 - acc: 0.9827 - val_loss: 0.0295 - val_acc: 0.9923\n"
          ],
          "name": "stdout"
        }
      ]
    },
    {
      "cell_type": "markdown",
      "metadata": {
        "id": "MoNRnYDWwdiS",
        "colab_type": "text"
      },
      "source": [
        "###Visualizing the model **loss** and **accuracy**"
      ]
    },
    {
      "cell_type": "code",
      "metadata": {
        "id": "BVctXW7DyE8V",
        "colab_type": "code",
        "colab": {
          "base_uri": "https://localhost:8080/",
          "height": 35
        },
        "outputId": "4890447a-0794-4b06-c3cc-eae519e3e1b1"
      },
      "source": [
        "# list all data in history\n",
        "print(history.history.keys())"
      ],
      "execution_count": 35,
      "outputs": [
        {
          "output_type": "stream",
          "text": [
            "dict_keys(['val_loss', 'val_acc', 'loss', 'acc', 'lr'])\n"
          ],
          "name": "stdout"
        }
      ]
    },
    {
      "cell_type": "code",
      "metadata": {
        "id": "ffKktKUlbm8-",
        "colab_type": "code",
        "outputId": "8a90ce1b-be20-481a-cd54-55a83a842ad3",
        "colab": {
          "base_uri": "https://localhost:8080/",
          "height": 268
        }
      },
      "source": [
        "fig, ax = plt.subplots(2,1) # aligning two plots horizontally\n",
        "ax[0].plot(history.history['loss'], label=\"Training loss\") \n",
        "ax[0].plot(history.history['val_loss'],label=\"validation loss\")\n",
        "legend = ax[0].legend(loc='best')\n",
        "\n",
        "ax[1].plot(history.history['acc'], color='b', label=\"Training accuracy\")\n",
        "ax[1].plot(history.history['val_acc'], color='r',label=\"Validation accuracy\")\n",
        "legend = ax[1].legend(loc='best')"
      ],
      "execution_count": 44,
      "outputs": [
        {
          "output_type": "display_data",
          "data": {
            "image/png": "[encoded data removed]",
            "text/plain": [
              "<Figure size 432x288 with 2 Axes>"
            ]
          },
          "metadata": {
            "tags": []
          }
        }
      ]
    },
    {
      "cell_type": "markdown",
      "metadata": {
        "id": "uqmkdlJE0X-Y",
        "colab_type": "text"
      },
      "source": [
        "###Making predictions on test.csv data"
      ]
    },
    {
      "cell_type": "code",
      "metadata": {
        "id": "7Mxy0oRrdFjP",
        "colab_type": "code",
        "colab": {}
      },
      "source": [
        "results = model.predict(test) # predicting test.csv data\n",
        "results = np.argmax(results,axis = 1) # select the index with maximum probability\n",
        "results = pd.Series(results,name=\"Label\")"
      ],
      "execution_count": 0,
      "outputs": []
    },
    {
      "cell_type": "code",
      "metadata": {
        "id": "Dp-CDveT3lCU",
        "colab_type": "code",
        "colab": {
          "base_uri": "https://localhost:8080/",
          "height": 35
        },
        "outputId": "752fc312-7b57-430f-c1ab-bb5729baff1d"
      },
      "source": [
        "test.shape # no. of rows in test.csv data"
      ],
      "execution_count": 62,
      "outputs": [
        {
          "output_type": "execute_result",
          "data": {
            "text/plain": [
              "(28000, 28, 28, 1)"
            ]
          },
          "metadata": {
            "tags": []
          },
          "execution_count": 62
        }
      ]
    },
    {
      "cell_type": "code",
      "metadata": {
        "id": "l9U_5Ll2dQlY",
        "colab_type": "code",
        "colab": {
          "base_uri": "https://localhost:8080/",
          "height": 35
        },
        "outputId": "78e8b2d7-712c-44c7-adce-4764ad0fea75"
      },
      "source": [
        "# creating submission file\n",
        "submission = pd.concat([pd.Series(range(1,28001),name = \"ImageId\"),results],axis = 1) \n",
        "submission.to_csv(\"digit_recongizer_using_cnn.csv\",index=False)\n",
        "print('csv file ready for submission')"
      ],
      "execution_count": 64,
      "outputs": [
        {
          "output_type": "stream",
          "text": [
            "csv file ready for submission\n"
          ],
          "name": "stdout"
        }
      ]
    }
  ]
}